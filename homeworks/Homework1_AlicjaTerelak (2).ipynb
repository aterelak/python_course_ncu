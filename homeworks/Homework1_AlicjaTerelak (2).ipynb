{
 "cells": [
  {
   "cell_type": "markdown",
   "metadata": {},
   "source": [
    "# Homework 1. - Alicja Terelak\n",
    "\n",
    "**1.1.** Write a script (or function) that takes as an input two numbers `width` and `height` and prints a rectangle with specified size.\n",
    "\n",
    "Examples:\n",
    "- `width=5` and `height=4` should result in terminal output:\n",
    "\n",
    "```\n",
    "#####\n",
    "#   #\n",
    "#   #\n",
    "#####\n",
    "```\n",
    "\n",
    "- `width=7` and `height=2` should result in terminal output:\n",
    "\n",
    "```\n",
    "#######\n",
    "#######\n",
    "```\n",
    "\n",
    "- `width=1` and `height=1` should result in terminal output:\n",
    "\n",
    "```\n",
    "#\n",
    "```\n"
   ]
  },
  {
   "cell_type": "markdown",
   "metadata": {},
   "source": [
    "## Rozwiązanie:\n",
    "\n",
    "#### Przykład 1"
   ]
  },
  {
   "cell_type": "code",
   "execution_count": 1,
   "metadata": {},
   "outputs": [
    {
     "name": "stdout",
     "output_type": "stream",
     "text": [
      "\n",
      "#####\n",
      "#   #\n",
      "#   #\n",
      "#####"
     ]
    }
   ],
   "source": [
    "height = 4\n",
    "width = 5\n",
    "\n",
    "def rectangle(height, width): \n",
    "    for k in range(0, height): \n",
    "        print (\"\") \n",
    "        for l in range(0, width): \n",
    "            if (k == 0 or k == height - 1 or l == 0 or l == width - 1) : \n",
    "                print(\"#\", end = \"\") \n",
    "            else : \n",
    "                print(\" \", end = \"\") \n",
    "\n",
    "rectangle(height, width)"
   ]
  },
  {
   "cell_type": "markdown",
   "metadata": {},
   "source": [
    "#### Przykład 2"
   ]
  },
  {
   "cell_type": "code",
   "execution_count": 12,
   "metadata": {},
   "outputs": [
    {
     "name": "stdout",
     "output_type": "stream",
     "text": [
      "\n",
      "#######\n",
      "#######"
     ]
    }
   ],
   "source": [
    "height = 2\n",
    "width = 7\n",
    "\n",
    "def rectangle(height, width): \n",
    "    for k in range(0, height): \n",
    "        print (\"\") \n",
    "        for l in range(0, width): \n",
    "            if (k == 0 or k == height - 1 or l == 0 or l == width - 1) : \n",
    "                print(\"#\", end = \"\") \n",
    "            else : \n",
    "                print(\" \", end = \"\") \n",
    "\n",
    "rectangle(height, width)"
   ]
  },
  {
   "cell_type": "markdown",
   "metadata": {},
   "source": [
    "#### Przykład 3"
   ]
  },
  {
   "cell_type": "code",
   "execution_count": 13,
   "metadata": {},
   "outputs": [
    {
     "name": "stdout",
     "output_type": "stream",
     "text": [
      "\n",
      "#"
     ]
    }
   ],
   "source": [
    "height = 1\n",
    "width = 1\n",
    "\n",
    "def rectangle(height, width): \n",
    "    for k in range(0, height): \n",
    "        print (\"\") \n",
    "        for l in range(0, width): \n",
    "            if (k == 0 or k == height - 1 or l == 0 or l == width - 1) : \n",
    "                print(\"#\", end = \"\") \n",
    "            else : \n",
    "                print(\" \", end = \"\") \n",
    "\n",
    "rectangle(height, width)"
   ]
  },
  {
   "cell_type": "markdown",
   "metadata": {},
   "source": [
    "\n",
    "**1.2.** Sum all perfect squares (numbers that are equal to the square of other number – 1, 4, ..., 9, 16, 25, 36, 49, ..., 9801, 10000) in range between 0 and 10000."
   ]
  },
  {
   "cell_type": "markdown",
   "metadata": {},
   "source": [
    "## Rozwiązanie:"
   ]
  },
  {
   "cell_type": "code",
   "execution_count": 95,
   "metadata": {},
   "outputs": [
    {
     "name": "stdout",
     "output_type": "stream",
     "text": [
      "Liczba idealnych kwadratów z zakresu od 0 do 10000 wynosi 100, natomiast ich suma wynosi 333383335000.0.\n"
     ]
    }
   ],
   "source": [
    "a = 0\n",
    "b = 10000\n",
    "\n",
    "def perfect_squares(a, b): \n",
    "    ile = 0\n",
    "    for k in range (a, b + 1): \n",
    "        l = 1; \n",
    "        while l * l <= k:\n",
    "            if l * l == k: \n",
    "                ile = ile + 1\n",
    "            l = l + 1\n",
    "        k = k + 1\n",
    "    return ile\n",
    "\n",
    "def sum_squares(n = 1):\n",
    "    return (n * (n + 1) * ((2 * n) + 1)) / 6\n",
    "\n",
    "print(\"Liczba idealnych kwadratów z zakresu od \" + str(a) + \" do \" + str(b) + \" wynosi\", str(perfect_squares(a, b)) + \", natomiast ich suma wynosi \" + str(sum_squares(n = b)) + \".\")"
   ]
  },
  {
   "cell_type": "markdown",
   "metadata": {},
   "source": [
    "**1.3.** Write a script for setting an alarm, which ask users whether they are employed (yes / no) and whether they are currently on vacation (yes / no). User should answer typing either `Y` for yes or `N` for no. If user specify incorrect answer (anything that is not `Y` or `N`) program should warn user about incorrect answer and ask again.\n",
    "\n",
    "The script output `True` if user is employed and not on vacation (because these are the circumstances under which you need to set an alarm). It should output `False` otherwise. Examples:\n",
    "\n",
    "Examples:\n",
    "\n",
    "- setting an alarm\n",
    "\n",
    "```\n",
    "> Are you employed? (Y/N):\n",
    "> y\n",
    "> Incorrect answer.\n",
    "> Are you employed? (Y/N):\n",
    "> Y\n",
    "> Are you on vacation (Y/N):\n",
    "> N\n",
    "> True\n",
    "```\n",
    "\n",
    "- not setting an alarm\n",
    "\n",
    "```\n",
    "> Are you employed? (Y/N):\n",
    "> N\n",
    "> Are you on vacation (Y/N):\n",
    "> N\n",
    "> False\n",
    "```"
   ]
  },
  {
   "cell_type": "markdown",
   "metadata": {},
   "source": [
    "## Rozwiązanie:"
   ]
  },
  {
   "cell_type": "code",
   "execution_count": 4,
   "metadata": {},
   "outputs": [
    {
     "name": "stdin",
     "output_type": "stream",
     "text": [
      "Are you employed? (Y/N) Y\n",
      "Are you on vacation? (Y/N) U\n"
     ]
    },
    {
     "name": "stdout",
     "output_type": "stream",
     "text": [
      "Incorrect answer.\n"
     ]
    },
    {
     "name": "stdin",
     "output_type": "stream",
     "text": [
      "Are you on vacation? (Y/N) Y\n"
     ]
    },
    {
     "name": "stdout",
     "output_type": "stream",
     "text": [
      "True\n"
     ]
    }
   ],
   "source": [
    "zatrudniony = True\n",
    "wakacje = True\n",
    "\n",
    "while zatrudniony == True:\n",
    "    praca = input('Are you employed? (Y/N)')\n",
    "    if praca == \"Y\":\n",
    "        zatrudniony = True\n",
    "        break\n",
    "    if praca == \"N\":\n",
    "        zatrudniony = False\n",
    "        print(\"False\")\n",
    "        break\n",
    "    else:\n",
    "        print(\"Incorrect answer.\")\n",
    "\n",
    "while wakacje == True:\n",
    "    odpoczynek = input(\"Are you on vacation? (Y/N)\")\n",
    "    if odpoczynek == \"Y\":\n",
    "        wakacje = True\n",
    "        print(\"True\")\n",
    "        break\n",
    "    if odpoczynek == \"N\":\n",
    "        wakacje = False\n",
    "        print(\"False\")\n",
    "        break\n",
    "    else:\n",
    "        print(\"Incorrect answer.\")"
   ]
  }
 ],
 "metadata": {
  "kernelspec": {
   "display_name": "Python 3",
   "language": "python",
   "name": "python3"
  },
  "language_info": {
   "codemirror_mode": {
    "name": "ipython",
    "version": 3
   },
   "file_extension": ".py",
   "mimetype": "text/x-python",
   "name": "python",
   "nbconvert_exporter": "python",
   "pygments_lexer": "ipython3",
   "version": "3.8.3"
  }
 },
 "nbformat": 4,
 "nbformat_minor": 4
}
