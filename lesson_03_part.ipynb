{
 "cells": [
  {
   "cell_type": "markdown",
   "metadata": {},
   "source": [
    "# Iteration\n",
    "\n",
    "The `while` loop keeps going as long as certain condition is `True`. If  you want to execute portion of code certain number of times you should use a `for` loop statement with the `range()` function.\n",
    "\n",
    "## For loop syntax\n",
    "\n",
    "**C#** \n",
    "```\n",
    "for (int i = 0; i < 5; i++)\n",
    "{\n",
    "    Console.WriteLine(\"i = {0}\", i);\n",
    "}\n",
    "```\n",
    "\n",
    "**Python**\n",
    "```\n",
    "for i in range(5):\n",
    "    print('i = ' + str(i))\n",
    "```\n",
    "\n",
    "General syntax:\n",
    "```\n",
    "for variable_name in range(start, stop, step):\n",
    "    <instructions>\n",
    "```\n",
    "\n",
    "- statements `break`, `continue` and `else` can also be used with for loops\n",
    "\n",
    "## Range function\n",
    "\n",
    "Range function is flexible and allows to easily iterate over specified range of integers.\n",
    "\n",
    "`range(5)`: 0, 1, 2, 3, 4\n",
    "\n",
    "`range(5, 10)`: 5, 6, 7, 8, 9\n",
    "\n",
    "`range(5, 12, 2)`: 5, 7, 9, 11 \n",
    "\n",
    "- start is always inclusive and stop is always exclusive\n",
    "- in Python indexing always starts from zero"
   ]
  },
  {
   "cell_type": "code",
   "execution_count": 1,
   "metadata": {},
   "outputs": [
    {
     "name": "stdout",
     "output_type": "stream",
     "text": [
      "range(5)\n",
      "0\n",
      "1\n",
      "2\n",
      "3\n",
      "4\n",
      "range(5, 10)\n",
      "5\n",
      "6\n",
      "7\n",
      "8\n",
      "9\n",
      "range(5, 12, 2)\n",
      "5\n",
      "7\n",
      "9\n",
      "11\n"
     ]
    }
   ],
   "source": [
    "print('range(5)')\n",
    "for i in range(5):\n",
    "    print(i)\n",
    "    \n",
    "print('range(5, 10)')\n",
    "for i in range(5, 10):\n",
    "    print(i)\n",
    "\n",
    "print('range(5, 12, 2)')\n",
    "for i in range(5, 12, 2):\n",
    "    print(i)"
   ]
  },
  {
   "cell_type": "markdown",
   "metadata": {},
   "source": [
    "---\n",
    "## **Quiz 1**\n",
    "\n",
    "```\n",
    "for i in range(100, 95, -1):\n",
    "    print(i)\n",
    "```\n",
    "---"
   ]
  },
  {
   "cell_type": "code",
   "execution_count": 2,
   "metadata": {},
   "outputs": [
    {
     "name": "stdout",
     "output_type": "stream",
     "text": [
      "100\n",
      "99\n",
      "98\n",
      "97\n",
      "96\n"
     ]
    }
   ],
   "source": [
    "for i in range(100, 95, -1):\n",
    "    print(i)"
   ]
  },
  {
   "cell_type": "markdown",
   "metadata": {},
   "source": [
    "---\n",
    "## **Task 1**\n",
    "\n",
    "Sum all numbers from 1 to 1000.\n",
    "\n",
    "---"
   ]
  },
  {
   "cell_type": "code",
   "execution_count": 3,
   "metadata": {},
   "outputs": [
    {
     "name": "stdout",
     "output_type": "stream",
     "text": [
      "1 + 2 + ... + 1000 = 500500\n"
     ]
    }
   ],
   "source": [
    "s = 0\n",
    "\n",
    "for i in range(1, 1001):\n",
    "    s += i\n",
    "    \n",
    "print('1 + 2 + ... + 1000 = ' + str(s))"
   ]
  },
  {
   "cell_type": "markdown",
   "metadata": {},
   "source": [
    "---\n",
    "## **Task 2**\n",
    "\n",
    "Sum all numbers **that doesn't contain digit 1** from 1 to 1000.\n",
    "\n",
    "You may need:\n",
    "- checking wheter specific letter is inside string: `letter in string`, e.g. `'a' in 'abc'` should return `True`\n",
    "---"
   ]
  },
  {
   "cell_type": "code",
   "execution_count": 4,
   "metadata": {},
   "outputs": [
    {
     "name": "stdout",
     "output_type": "stream",
     "text": [
      "2 + 3 + ... + 9 + 20 + 22 + ... + 998 + 999 = 395604\n"
     ]
    }
   ],
   "source": [
    "s = 0\n",
    "\n",
    "for i in range(1, 1001):\n",
    "    if '1' not in str(i):\n",
    "        s += i\n",
    "    \n",
    "print('2 + 3 + ... + 9 + 20 + 22 + ... + 998 + 999 = ' + str(s))"
   ]
  },
  {
   "cell_type": "markdown",
   "metadata": {},
   "source": [
    "> *`break` statement can be also used inside for loop*"
   ]
  },
  {
   "cell_type": "markdown",
   "metadata": {},
   "source": [
    "- example of using break in for loop\n",
    "- user gives a digit, loop compares each digit with user digit, if it is found it breaks"
   ]
  },
  {
   "cell_type": "code",
   "execution_count": 18,
   "metadata": {},
   "outputs": [
    {
     "name": "stdin",
     "output_type": "stream",
     "text": [
      "Select a digit: 20\n"
     ]
    },
    {
     "name": "stdout",
     "output_type": "stream",
     "text": [
      "1 is not my_digit\n",
      "2 is not my_digit\n",
      "3 is not my_digit\n",
      "4 is not my_digit\n",
      "5 is not my_digit\n",
      "6 is not my_digit\n",
      "7 is not my_digit\n",
      "8 is not my_digit\n",
      "9 is not my_digit\n",
      "10 is not my_digit\n"
     ]
    }
   ],
   "source": [
    "my_digit = input('Select a digit:')\n",
    "my_digit = int(my_digit)\n",
    "\n",
    "for digit in range(10):\n",
    "    if digit == my_digit:\n",
    "        print(str(digit) + ' is my_digit')\n",
    "        break\n",
    "    else:\n",
    "        print(str(digit) + ' is not my_digit')"
   ]
  }
 ],
 "metadata": {
  "kernelspec": {
   "display_name": "Python 3",
   "language": "python",
   "name": "python3"
  },
  "language_info": {
   "codemirror_mode": {
    "name": "ipython",
    "version": 3
   },
   "file_extension": ".py",
   "mimetype": "text/x-python",
   "name": "python",
   "nbconvert_exporter": "python",
   "pygments_lexer": "ipython3",
   "version": "3.8.3"
  }
 },
 "nbformat": 4,
 "nbformat_minor": 4
}
